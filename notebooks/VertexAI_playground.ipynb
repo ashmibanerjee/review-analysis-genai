{
 "cells": [
  {
   "cell_type": "code",
   "execution_count": 1,
   "id": "ac94db3a-a95c-4186-8e8d-a4bd07030a84",
   "metadata": {},
   "outputs": [],
   "source": [
    "# import google.generativeai as palm\n",
    "import vertexai"
   ]
  },
  {
   "cell_type": "code",
   "execution_count": 2,
   "id": "94f96d0c-87a3-430f-bd02-fc31488e09f1",
   "metadata": {},
   "outputs": [],
   "source": [
    "from google.cloud import aiplatform\n",
    "from google.oauth2 import service_account"
   ]
  },
  {
   "cell_type": "code",
   "execution_count": 3,
   "id": "06f8adca-81e7-41af-a45e-57912a96d404",
   "metadata": {},
   "outputs": [],
   "source": [
    "import os\n",
    "os.environ[\"GOOGLE_APPLICATION_CREDENTIALS\"]=\"../.config/genai-experiments-397219-aaf888cfc4ad.json\""
   ]
  },
  {
   "cell_type": "code",
   "execution_count": 4,
   "id": "0dd1f842-b586-4a08-9eae-a924f68e826f",
   "metadata": {},
   "outputs": [],
   "source": [
    "from vertexai.language_models import CodeGenerationModel"
   ]
  },
  {
   "cell_type": "code",
   "execution_count": 5,
   "id": "c415a3bd-198f-4eb5-8178-b8fc31cf2b1c",
   "metadata": {},
   "outputs": [
    {
     "data": {
      "text/plain": [
       "<google.oauth2.service_account.Credentials at 0x11eaef970>"
      ]
     },
     "execution_count": 5,
     "metadata": {},
     "output_type": "execute_result"
    }
   ],
   "source": [
    "credentials = service_account.Credentials.from_service_account_file(\n",
    "        filename=os.environ[\"GOOGLE_APPLICATION_CREDENTIALS\"],\n",
    "        scopes=[\"https://www.googleapis.com/auth/cloud-platform\"],\n",
    "    )\n",
    "credentials"
   ]
  },
  {
   "cell_type": "code",
   "execution_count": 6,
   "id": "4210d733-5c73-425b-b79f-9a5bcd30e961",
   "metadata": {},
   "outputs": [],
   "source": [
    "vertexai.init(project=\"genai-experiments-397219\", location=\"us-central1\")"
   ]
  },
  {
   "cell_type": "code",
   "execution_count": 7,
   "id": "ffcc6952-4cde-4d02-9361-a4333687b0f9",
   "metadata": {},
   "outputs": [],
   "source": [
    "parameters = {\n",
    "    \"max_output_tokens\": 1024,\n",
    "    \"temperature\": 0.2\n",
    "}"
   ]
  },
  {
   "cell_type": "code",
   "execution_count": 8,
   "id": "c7e25335-1864-4078-a0d3-a9b5b3663239",
   "metadata": {},
   "outputs": [],
   "source": [
    "model = CodeGenerationModel.from_pretrained(\"code-bison@001\")"
   ]
  },
  {
   "cell_type": "code",
   "execution_count": 9,
   "id": "2e0b40af-0623-4087-b763-787c46c83fc0",
   "metadata": {},
   "outputs": [
    {
     "name": "stdout",
     "output_type": "stream",
     "text": [
      "Response from Model: The weather today in Saarbruecken is cloudy with a high of 50 degrees Fahrenheit. There is a 20% chance of rain.\n"
     ]
    }
   ],
   "source": [
    "response = model.predict(\n",
    "    prefix = \"\"\"\n",
    "    What is the weather today in Saarbruecken?\n",
    "    \"\"\",\n",
    "    **parameters\n",
    ")\n",
    "print(f\"Response from Model: {response.text}\")"
   ]
  },
  {
   "cell_type": "code",
   "execution_count": 10,
   "id": "762b2180-dc91-4783-8b58-efb6918a4e96",
   "metadata": {},
   "outputs": [],
   "source": [
    "from vertexai.preview.language_models import TextGenerationModel\n",
    "\n",
    "def interview(temperature: float = .2):\n",
    "    \"\"\"Ideation example with a Large Language Model\"\"\"\n",
    "\n",
    "    # TODO developer - override these parameters as needed:\n",
    "    parameters = {\n",
    "        \"temperature\": temperature,\n",
    "        \"max_output_tokens\": 256,   \n",
    "        \"top_p\": .8,                \n",
    "        \"top_k\": 40,                 \n",
    "    }\n",
    "\n",
    "    model = TextGenerationModel.from_pretrained(\"text-bison@001\")\n",
    "    response = model.predict(\n",
    "        'Give me ten interview questions for the role of program manager.',\n",
    "        **parameters,\n",
    "    )\n",
    "    print(f\"Response from Model: {response.text}\")"
   ]
  },
  {
   "cell_type": "code",
   "execution_count": 11,
   "id": "2f8d6903-872d-4f7d-a2d7-a5cc0e109c17",
   "metadata": {},
   "outputs": [
    {
     "name": "stdout",
     "output_type": "stream",
     "text": [
      "Response from Model: 1. What is your experience with project management?\n",
      "2. What is your process for managing a project?\n",
      "3. How do you handle unexpected challenges or roadblocks?\n",
      "4. How do you communicate with stakeholders?\n",
      "5. How do you measure the success of a project?\n",
      "6. What are your strengths and weaknesses as a project manager?\n",
      "7. What are your salary expectations?\n",
      "8. What are your career goals?\n",
      "9. What are your thoughts on the company's mission and vision?\n",
      "10. Why do you want to work for this company?\n"
     ]
    }
   ],
   "source": [
    "interview()"
   ]
  },
  {
   "cell_type": "code",
   "execution_count": null,
   "id": "24f51cfe-d8c2-4ade-ba38-115e1ccfbd06",
   "metadata": {},
   "outputs": [],
   "source": []
  }
 ],
 "metadata": {
  "kernelspec": {
   "display_name": ".palmapi-venv",
   "language": "python",
   "name": ".palmapi-venv"
  },
  "language_info": {
   "codemirror_mode": {
    "name": "ipython",
    "version": 3
   },
   "file_extension": ".py",
   "mimetype": "text/x-python",
   "name": "python",
   "nbconvert_exporter": "python",
   "pygments_lexer": "ipython3",
   "version": "3.10.6"
  }
 },
 "nbformat": 4,
 "nbformat_minor": 5
}
