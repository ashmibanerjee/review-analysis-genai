{
 "cells": [
  {
   "cell_type": "code",
   "execution_count": 1,
   "id": "ac94db3a-a95c-4186-8e8d-a4bd07030a84",
   "metadata": {},
   "outputs": [],
   "source": [
    "# import google.generativeai as palm\n",
    "import vertexai"
   ]
  },
  {
   "cell_type": "markdown",
   "id": "9617ec3d-dcda-4a71-9e81-34f83e2d3c39",
   "metadata": {},
   "source": [
    "## Chat Model\n",
    "https://console.cloud.google.com/vertex-ai/generative/language/prompt-examples/Science%20chatbot?project=genai-experiments-397219\n",
    "\n",
    "## Q&A Model\n"
   ]
  },
  {
   "cell_type": "code",
   "execution_count": 2,
   "id": "94f96d0c-87a3-430f-bd02-fc31488e09f1",
   "metadata": {},
   "outputs": [],
   "source": [
    "from google.cloud import aiplatform\n",
    "from google.oauth2 import service_account"
   ]
  },
  {
   "cell_type": "code",
   "execution_count": 4,
   "id": "06f8adca-81e7-41af-a45e-57912a96d404",
   "metadata": {},
   "outputs": [],
   "source": [
    "import os\n",
    "os.environ[\"GOOGLE_APPLICATION_CREDENTIALS\"]=\"../.config/genai-experiments-397219-aaf888cfc4ad.json\""
   ]
  },
  {
   "cell_type": "code",
   "execution_count": 6,
   "id": "0dd1f842-b586-4a08-9eae-a924f68e826f",
   "metadata": {},
   "outputs": [],
   "source": [
    "from vertexai.language_models import CodeGenerationModel"
   ]
  },
  {
   "cell_type": "code",
   "execution_count": 7,
   "id": "c415a3bd-198f-4eb5-8178-b8fc31cf2b1c",
   "metadata": {},
   "outputs": [
    {
     "data": {
      "text/plain": [
       "<google.oauth2.service_account.Credentials at 0x1204f76d0>"
      ]
     },
     "execution_count": 7,
     "metadata": {},
     "output_type": "execute_result"
    }
   ],
   "source": [
    "credentials = service_account.Credentials.from_service_account_file(\n",
    "        filename=os.environ[\"GOOGLE_APPLICATION_CREDENTIALS\"],\n",
    "        scopes=[\"https://www.googleapis.com/auth/cloud-platform\"],\n",
    "    )\n",
    "credentials"
   ]
  },
  {
   "cell_type": "code",
   "execution_count": 8,
   "id": "4210d733-5c73-425b-b79f-9a5bcd30e961",
   "metadata": {},
   "outputs": [],
   "source": [
    "vertexai.init(project=\"genai-experiments-397219\", location=\"us-central1\")"
   ]
  },
  {
   "cell_type": "code",
   "execution_count": 9,
   "id": "ffcc6952-4cde-4d02-9361-a4333687b0f9",
   "metadata": {},
   "outputs": [],
   "source": [
    "parameters = {\n",
    "    \"max_output_tokens\": 1024,\n",
    "    \"temperature\": 0.2\n",
    "}"
   ]
  },
  {
   "cell_type": "code",
   "execution_count": 10,
   "id": "c7e25335-1864-4078-a0d3-a9b5b3663239",
   "metadata": {},
   "outputs": [],
   "source": [
    "model = CodeGenerationModel.from_pretrained(\"code-bison@001\")"
   ]
  },
  {
   "cell_type": "code",
   "execution_count": 11,
   "id": "2e0b40af-0623-4087-b763-787c46c83fc0",
   "metadata": {},
   "outputs": [
    {
     "name": "stdout",
     "output_type": "stream",
     "text": [
      "Response from Model: The weather today in Saarbruecken is cloudy with a high of 15 degrees Celsius. There is a 20% chance of rain.\n"
     ]
    }
   ],
   "source": [
    "response = model.predict(\n",
    "    prefix = \"\"\"\n",
    "    What is the weather today in Saarbruecken?\n",
    "    \"\"\",\n",
    "    **parameters\n",
    ")\n",
    "print(f\"Response from Model: {response.text}\")"
   ]
  },
  {
   "cell_type": "code",
   "execution_count": 14,
   "id": "762b2180-dc91-4783-8b58-efb6918a4e96",
   "metadata": {},
   "outputs": [],
   "source": [
    "from vertexai.preview.language_models import TextGenerationModel\n",
    "\n",
    "def interview(temperature: float = .2):\n",
    "    \"\"\"Ideation example with a Large Language Model\"\"\"\n",
    "\n",
    "    # TODO developer - override these parameters as needed:\n",
    "    parameters = {\n",
    "        \"temperature\": temperature,\n",
    "        \"max_output_tokens\": 256,   \n",
    "        \"top_p\": .8,                \n",
    "        \"top_k\": 40,                 \n",
    "    }\n",
    "\n",
    "    model = TextGenerationModel.from_pretrained(\"text-bison@001\")\n",
    "    response = model.predict(\n",
    "        \"what should I eat here:We visited our local favorite Burger Up (in the 12 South area) on Saturday 01.30.16 around 1 pm Central.  We sat at the bar.\\n\\nEats & Drinks - 4 out of 5 stars\\nTo start, we ordered a glass of the Pinot Grigio.  In our opinion the wine could have been a bit fresher (the bottle was probably open for a while).\\n\\nFor food, we ordered 2 bison burgers:\\n1. Bison burger (no jalapenos), medium rare, on the regular setting with truffle fries on the side (the truffle fries are an up charge).  \\n2. Bison burger, medium rare, on a mushroom setting with a kale salad on the side (the kale salad is an up charge).  We did ask for the kale salad to be sent out before the burger and although this didn't happen, the staff did apologize for the mistake.\\n\\nWe tend to believe Burger Up's bison burger is one of the best burgers in town and appreciate the consistency with which it's served each time.  The truffle fries are definitely worth the up charge.  They usually come out fresh and as a perfect mix between crispy and soft!  Don't forget to ask for the homemade ketchup and aioli.  They are very sweet so a little goes a long way.\\nA healthy alternative choice for a side is the kale salad which is well balanced with a citrus vinaigrette, dried cherries, and hazlenuts.\\n\\nService - 5 out of 5 stars\\nThe staff is casual but always super friendly. Expect your server to check in with you about your experience and the meal.  Food is usually delivered in a short amount of time. The staff always seem to interact like one big family and this translates to the customer experience. \\n\\nValue - 5 out of 5 stars\\nFor the amount and quality of food you receive, the restaurant offers great value.  Wherever possible, the ingredients (including the meat) are locally sourced.  You feel good knowing that your dollars count towards supporting the community, sustainability, and humane treatment of animals.\\n\\nAtmosphere - 4 out of 5 stars\\nThe restaurant lends much of it's main dining room to shared bench seating.  While at times (due to the popularity of the restaurant) it can seem tight quarters, most patrons are okay with sharing a seat with each other to partake in a community-like meal.\\nThere are a few private tables in the main dining room, a bar, and a closed in patio with private tables as well.\\nThe furniture and decoration is simple, rustic, but much of it is also locally sourced.\\n\\nMiscellaneous\\nParking is sometimes a concern as only street parking is available, however, in all our times (on average 2 times a month) visiting we've never been without a spot within 3 minutes walking distance. This restaurant has certainly outgrown this space so the indoor waiting area is essentially non-existent, however no one ever seems to mind!\",\n",
    "        **parameters,\n",
    "    )\n",
    "    print(f\"Response from Model: {response.text}\")"
   ]
  },
  {
   "cell_type": "code",
   "execution_count": 15,
   "id": "2f8d6903-872d-4f7d-a2d7-a5cc0e109c17",
   "metadata": {},
   "outputs": [
    {
     "name": "stdout",
     "output_type": "stream",
     "text": [
      "Response from Model: The bison burger is a must-try at Burger Up. It is cooked to perfection and comes with your choice of toppings. The truffle fries are also delicious and are a great side dish. The staff is friendly and attentive, and the atmosphere is casual and relaxed. Overall, Burger Up is a great place to enjoy a delicious meal.\n"
     ]
    }
   ],
   "source": [
    "interview()"
   ]
  },
  {
   "cell_type": "code",
   "execution_count": 16,
   "id": "24f51cfe-d8c2-4ade-ba38-115e1ccfbd06",
   "metadata": {},
   "outputs": [
    {
     "name": "stdout",
     "output_type": "stream",
     "text": [
      "Response from Model: There are eight planets in our solar system: Mercury, Venus, Earth, Mars, Jupiter, Saturn, Uranus, and Neptune.\n",
      "Response from Model: Pluto was once considered to be the ninth planet, but it was reclassified as a dwarf planet in 2006. Dwarf planets are smaller than planets and orbit the sun in the Kuiper Belt or the scattered disc.\n"
     ]
    }
   ],
   "source": [
    "from vertexai.language_models import ChatModel, InputOutputTextPair\n",
    "\n",
    "vertexai.init(project=\"genai-experiments-397219\", location=\"us-central1\")\n",
    "chat_model = ChatModel.from_pretrained(\"chat-bison@001\")\n",
    "parameters = {\n",
    "    \"max_output_tokens\": 256,\n",
    "    \"temperature\": 0.8,\n",
    "    \"top_p\": 0.8,\n",
    "    \"top_k\": 40\n",
    "}\n",
    "chat = chat_model.start_chat(\n",
    "    context=\"\"\"Your name is Miles. You are an astronomer who is knowledgeable about the solar system.\n",
    "Respond in short sentences. Shape your response as if talking to a 10-years-old.\"\"\",\n",
    "    examples=[\n",
    "        InputOutputTextPair(\n",
    "            input_text=\"\"\"How many moons does Mars have?\"\"\",\n",
    "            output_text=\"\"\"Very good question. Mars has two moons, Phobos and Deimos. They are very small and irregularly shaped. Phobos is the larger of the two moons and is about 17 miles (27 kilometers) in diameter. Deimos is about 12 miles (19 kilometers) in diameter. Both moons are thought to be captured asteroids.\"\"\"\n",
    "        )\n",
    "    ]\n",
    ")\n",
    "response = chat.send_message(\"\"\"How many planets are there in the solar system?\"\"\", **parameters)\n",
    "print(f\"Response from Model: {response.text}\")\n",
    "response = chat.send_message(\"\"\"When I learned about the planets in school, there were nine. When did that change?\"\"\", **parameters)\n",
    "print(f\"Response from Model: {response.text}\")"
   ]
  },
  {
   "cell_type": "code",
   "execution_count": null,
   "id": "5329dda2-b69a-48e7-b62a-bb4985d6361b",
   "metadata": {},
   "outputs": [],
   "source": []
  }
 ],
 "metadata": {
  "kernelspec": {
   "display_name": ".genai-venv",
   "language": "python",
   "name": ".genai-venv"
  },
  "language_info": {
   "codemirror_mode": {
    "name": "ipython",
    "version": 3
   },
   "file_extension": ".py",
   "mimetype": "text/x-python",
   "name": "python",
   "nbconvert_exporter": "python",
   "pygments_lexer": "ipython3",
   "version": "3.10.6"
  }
 },
 "nbformat": 4,
 "nbformat_minor": 5
}
